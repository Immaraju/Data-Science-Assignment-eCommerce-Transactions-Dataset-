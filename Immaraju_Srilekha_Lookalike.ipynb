{
  "cells": [
    {
      "cell_type": "code",
      "source": [
        "import pandas as pd\n",
        "from sklearn.metrics.pairwise import cosine_similarity\n",
        "from sklearn.preprocessing import StandardScaler, OneHotEncoder\n",
        "\n",
        "# Step 1: Load the datasets\n",
        "customers = pd.read_csv('Customers.csv')\n",
        "products = pd.read_csv('Products.csv')\n",
        "transactions = pd.read_csv('Transactions.csv')\n",
        "\n",
        "# Step 2: Merge the datasets\n",
        "# Merge Transactions with Products to get product details\n",
        "transactions = transactions.merge(products, on='ProductID', how='left')\n",
        "\n",
        "# Merge Transactions with Customers to get customer profile details\n",
        "customer_data = transactions.merge(customers, on='CustomerID', how='left')\n",
        "\n",
        "# Step 3: Feature Engineering\n",
        "# Aggregate transaction data for customers\n",
        "customer_features = customer_data.groupby('CustomerID').agg({\n",
        "    'TotalValue': 'sum',                # Total spending by customer\n",
        "    'ProductID': 'count',               # Total transactions by customer\n",
        "    'Category': lambda x: x.mode()[0]  # Most frequently purchased product category\n",
        "}).reset_index()\n",
        "\n",
        "# Rename columns for clarity\n",
        "customer_features.columns = ['CustomerID', 'TotalSpending', 'TransactionCount', 'TopCategory']\n",
        "\n",
        "# Encode the 'TopCategory' column using OneHotEncoder\n",
        "encoder = OneHotEncoder(sparse_output=False)\n",
        "encoded_category = encoder.fit_transform(customer_features[['TopCategory']])\n",
        "\n",
        "# Combine the encoded features with numerical features\n",
        "features = pd.concat(\n",
        "    [customer_features[['TotalSpending', 'TransactionCount']],\n",
        "     pd.DataFrame(encoded_category, index=customer_features.index)],\n",
        "    axis=1\n",
        ")\n",
        "\n",
        "# Ensure all column names are strings to avoid sklearn validation errors\n",
        "features.columns = features.columns.astype(str)\n",
        "\n",
        "# Step 4: Scaling the features\n",
        "scaler = StandardScaler()\n",
        "scaled_features = scaler.fit_transform(features)\n",
        "\n",
        "# Step 5: Calculate Cosine Similarity\n",
        "similarity_matrix = cosine_similarity(scaled_features)\n",
        "similarity_df = pd.DataFrame(similarity_matrix,\n",
        "                             index=customer_features['CustomerID'],\n",
        "                             columns=customer_features['CustomerID'])\n",
        "\n",
        "# Step 6: Generate Recommendations\n",
        "lookalikes = {}\n",
        "for customer_id in customer_features['CustomerID'][:20]:  # First 20 customers (C0001 to C0020)\n",
        "    similar_customers = similarity_df[customer_id].sort_values(ascending=False)[1:4]  # Top 3 (exclude self)\n",
        "    lookalikes[customer_id] = list(similar_customers.items())\n",
        "\n",
        "# Step 7: Prepare Output CSV\n",
        "lookalike_csv = pd.DataFrame({\n",
        "    'cust_id': list(lookalikes.keys()),\n",
        "    'list': [','.join([f\"{cust}:{score:.2f}\" for cust, score in value]) for value in lookalikes.values()]\n",
        "})\n",
        "\n",
        "# Save to CSV\n",
        "lookalike_csv.to_csv('Immaraju_Srilekha_Lookalike.csv', index=False)\n",
        "\n",
        "print(\"Lookalike Model completed and output saved to 'Immaraju_Srilekha_Lookalike.csv'\")"
      ],
      "metadata": {
        "colab": {
          "base_uri": "https://localhost:8080/"
        },
        "id": "Pg3QqwqGQqRk",
        "outputId": "dfa29649-13a7-43c0-9690-ed5034c35de4"
      },
      "id": "Pg3QqwqGQqRk",
      "execution_count": 11,
      "outputs": [
        {
          "output_type": "stream",
          "name": "stdout",
          "text": [
            "Lookalike Model completed and output saved to 'Immaraju_Srilekha_Lookalike.csv'\n"
          ]
        }
      ]
    }
  ],
  "metadata": {
    "colab": {
      "provenance": [],
      "gpuType": "T4"
    },
    "accelerator": "GPU",
    "language_info": {
      "name": "python"
    },
    "kernelspec": {
      "name": "python3",
      "display_name": "Python 3"
    }
  },
  "nbformat": 4,
  "nbformat_minor": 5
}